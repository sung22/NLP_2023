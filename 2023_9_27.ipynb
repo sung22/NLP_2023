{
  "nbformat": 4,
  "nbformat_minor": 0,
  "metadata": {
    "colab": {
      "provenance": [],
      "authorship_tag": "ABX9TyNBjQTgDi92FviorStA/WVu",
      "include_colab_link": true
    },
    "kernelspec": {
      "name": "python3",
      "display_name": "Python 3"
    },
    "language_info": {
      "name": "python"
    }
  },
  "cells": [
    {
      "cell_type": "markdown",
      "metadata": {
        "id": "view-in-github",
        "colab_type": "text"
      },
      "source": [
        "<a href=\"https://colab.research.google.com/github/sung22/NLP_2023/blob/main/2023_9_27.ipynb\" target=\"_parent\"><img src=\"https://colab.research.google.com/assets/colab-badge.svg\" alt=\"Open In Colab\"/></a>"
      ]
    },
    {
      "cell_type": "code",
      "execution_count": 3,
      "metadata": {
        "id": "L1Q4ZbfXLWLt"
      },
      "outputs": [],
      "source": [
        "strdata = 'I want to go home'"
      ]
    },
    {
      "cell_type": "code",
      "source": [
        "print(strdata[0])\n",
        "print(strdata[1])\n",
        "print(strdata[2])\n",
        "print(strdata[3])\n",
        "print(strdata[4])\n",
        "print(strdata[5])\n",
        "print(strdata[6])\n",
        "print(strdata[7])\n",
        "print(strdata[8])\n",
        "print(strdata[-8])\n",
        "print(strdata[-7])\n",
        "print(strdata[-6])\n",
        "print(strdata[-5])\n",
        "print(strdata[-4])\n",
        "print(strdata[-3])\n",
        "print(strdata[-2])\n",
        "print(strdata[-1])"
      ],
      "metadata": {
        "colab": {
          "base_uri": "https://localhost:8080/"
        },
        "id": "rtqvE9FzMVjm",
        "outputId": "d2f90af0-77a5-4989-91cb-52720fff893c"
      },
      "execution_count": 14,
      "outputs": [
        {
          "output_type": "stream",
          "name": "stdout",
          "text": [
            "I\n",
            " \n",
            "w\n",
            "a\n",
            "n\n",
            "t\n",
            " \n",
            "t\n",
            "o\n",
            " \n",
            "g\n",
            "o\n",
            " \n",
            "h\n",
            "o\n",
            "m\n",
            "e\n"
          ]
        }
      ]
    },
    {
      "cell_type": "code",
      "source": [
        "listdata = [23,47,17,[5,6,9]]"
      ],
      "metadata": {
        "id": "xZhmMNyvMrN1"
      },
      "execution_count": 18,
      "outputs": []
    },
    {
      "cell_type": "code",
      "source": [
        "print(listdata[1])\n",
        "print(listdata[0])\n",
        "print(listdata[3][0])"
      ],
      "metadata": {
        "colab": {
          "base_uri": "https://localhost:8080/"
        },
        "id": "9Hna8mL4Nsz0",
        "outputId": "ce6b9902-48e2-4ed0-ff97-bee256535959"
      },
      "execution_count": 20,
      "outputs": [
        {
          "output_type": "stream",
          "name": "stdout",
          "text": [
            "47\n",
            "23\n",
            "5\n"
          ]
        }
      ]
    },
    {
      "cell_type": "code",
      "source": [
        "listdata2 = ['game', 'class', 'mango']\n",
        "print(listdata2)"
      ],
      "metadata": {
        "id": "brv_gK9zOOgP",
        "outputId": "7d75ed83-563e-4c15-c86c-bb565ab44f30",
        "colab": {
          "base_uri": "https://localhost:8080/"
        }
      },
      "execution_count": 25,
      "outputs": [
        {
          "output_type": "stream",
          "name": "stdout",
          "text": [
            "['game', 'class', 'mango']\n"
          ]
        }
      ]
    },
    {
      "cell_type": "code",
      "source": [
        "listdata2[1] = 'cocoa'\n",
        "print(listdata2)"
      ],
      "metadata": {
        "id": "sd1lAUl8OhZu",
        "outputId": "bf72ca7b-46df-480b-de74-abf1d92aa791",
        "colab": {
          "base_uri": "https://localhost:8080/"
        }
      },
      "execution_count": 26,
      "outputs": [
        {
          "output_type": "stream",
          "name": "stdout",
          "text": [
            "['game', 'cocoa', 'mango']\n"
          ]
        }
      ]
    },
    {
      "cell_type": "code",
      "source": [
        "strdata2 = 'I want' ; strdata3 = 'to go home'\n",
        "print(strdata2+strdata3)"
      ],
      "metadata": {
        "id": "6IxC9dpwO2Ry",
        "outputId": "e011dfa7-a844-41ae-c095-4e00484dcb40",
        "colab": {
          "base_uri": "https://localhost:8080/"
        }
      },
      "execution_count": 28,
      "outputs": [
        {
          "output_type": "stream",
          "name": "stdout",
          "text": [
            "I wantto go home\n"
          ]
        }
      ]
    },
    {
      "cell_type": "code",
      "source": [
        "strdata2 ='I want' ; strdata3 = 'to go home' ; strdata4 = ' '\n",
        "print(strdata2+strdata4+strdata3)"
      ],
      "metadata": {
        "id": "YPnRRtHRPNKM",
        "outputId": "37d0eb43-2666-49a4-f9b4-8724e99e8269",
        "colab": {
          "base_uri": "https://localhost:8080/"
        }
      },
      "execution_count": 29,
      "outputs": [
        {
          "output_type": "stream",
          "name": "stdout",
          "text": [
            "I want to go home\n"
          ]
        }
      ]
    }
  ]
}