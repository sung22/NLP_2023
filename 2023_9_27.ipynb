{
  "nbformat": 4,
  "nbformat_minor": 0,
  "metadata": {
    "colab": {
      "provenance": [],
      "authorship_tag": "ABX9TyPJ7+b/E2of0w60D3HCSTQO",
      "include_colab_link": true
    },
    "kernelspec": {
      "name": "python3",
      "display_name": "Python 3"
    },
    "language_info": {
      "name": "python"
    }
  },
  "cells": [
    {
      "cell_type": "markdown",
      "metadata": {
        "id": "view-in-github",
        "colab_type": "text"
      },
      "source": [
        "<a href=\"https://colab.research.google.com/github/sung22/NLP_2023/blob/main/2023_9_27.ipynb\" target=\"_parent\"><img src=\"https://colab.research.google.com/assets/colab-badge.svg\" alt=\"Open In Colab\"/></a>"
      ]
    },
    {
      "cell_type": "code",
      "execution_count": 3,
      "metadata": {
        "id": "L1Q4ZbfXLWLt"
      },
      "outputs": [],
      "source": [
        "strdata = 'I want to go home'"
      ]
    },
    {
      "cell_type": "code",
      "source": [
        "print(strdata[0])\n",
        "print(strdata[1])\n",
        "print(strdata[2])\n",
        "print(strdata[3])\n",
        "print(strdata[4])\n",
        "print(strdata[5])\n",
        "print(strdata[6])\n",
        "print(strdata[7])\n",
        "print(strdata[8])\n",
        "print(strdata[-8])\n",
        "print(strdata[-7])\n",
        "print(strdata[-6])\n",
        "print(strdata[-5])\n",
        "print(strdata[-4])\n",
        "print(strdata[-3])\n",
        "print(strdata[-2])\n",
        "print(strdata[-1])"
      ],
      "metadata": {
        "colab": {
          "base_uri": "https://localhost:8080/"
        },
        "id": "rtqvE9FzMVjm",
        "outputId": "d2f90af0-77a5-4989-91cb-52720fff893c"
      },
      "execution_count": 14,
      "outputs": [
        {
          "output_type": "stream",
          "name": "stdout",
          "text": [
            "I\n",
            " \n",
            "w\n",
            "a\n",
            "n\n",
            "t\n",
            " \n",
            "t\n",
            "o\n",
            " \n",
            "g\n",
            "o\n",
            " \n",
            "h\n",
            "o\n",
            "m\n",
            "e\n"
          ]
        }
      ]
    },
    {
      "cell_type": "code",
      "source": [
        "listdata = [23,47,17,[5,6,9]]"
      ],
      "metadata": {
        "id": "xZhmMNyvMrN1"
      },
      "execution_count": 18,
      "outputs": []
    },
    {
      "cell_type": "code",
      "source": [
        "print(listdata[1])\n",
        "print(listdata[0])\n",
        "print(listdata[3][0])"
      ],
      "metadata": {
        "colab": {
          "base_uri": "https://localhost:8080/"
        },
        "id": "9Hna8mL4Nsz0",
        "outputId": "ce6b9902-48e2-4ed0-ff97-bee256535959"
      },
      "execution_count": 20,
      "outputs": [
        {
          "output_type": "stream",
          "name": "stdout",
          "text": [
            "47\n",
            "23\n",
            "5\n"
          ]
        }
      ]
    },
    {
      "cell_type": "code",
      "source": [],
      "metadata": {
        "id": "IvXzZ5OjOAxb"
      },
      "execution_count": null,
      "outputs": []
    }
  ]
}