{
  "nbformat": 4,
  "nbformat_minor": 0,
  "metadata": {
    "colab": {
      "provenance": [],
      "authorship_tag": "ABX9TyNpavNIueKzI+quT3xqDTcx",
      "include_colab_link": true
    },
    "kernelspec": {
      "name": "python3",
      "display_name": "Python 3"
    },
    "language_info": {
      "name": "python"
    }
  },
  "cells": [
    {
      "cell_type": "markdown",
      "metadata": {
        "id": "view-in-github",
        "colab_type": "text"
      },
      "source": [
        "<a href=\"https://colab.research.google.com/github/sung22/NLP_2023/blob/main/2023_9_23.ipynb\" target=\"_parent\"><img src=\"https://colab.research.google.com/assets/colab-badge.svg\" alt=\"Open In Colab\"/></a>"
      ]
    },
    {
      "cell_type": "code",
      "execution_count": 1,
      "metadata": {
        "id": "dJw-EVgUDwvu"
      },
      "outputs": [],
      "source": [
        "listdata = ['a','b','c']"
      ]
    },
    {
      "cell_type": "code",
      "source": [
        "if 'a' in listdata:\n",
        "  print('a가 listdata에 있습니다.')\n",
        "  print(listdata)\n",
        "else:\n",
        "  print('a가 listdata에 존재하지 않습니다.')"
      ],
      "metadata": {
        "colab": {
          "base_uri": "https://localhost:8080/"
        },
        "id": "tI_f7M9hD3_I",
        "outputId": "a9bccc86-09da-4e83-d733-c94bfdcda98a"
      },
      "execution_count": 6,
      "outputs": [
        {
          "output_type": "stream",
          "name": "stdout",
          "text": [
            "a가 listdata에 있습니다.\n",
            "['a', 'b', 'c']\n"
          ]
        }
      ]
    }
  ]
}