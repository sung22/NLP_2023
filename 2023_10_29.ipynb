{
  "nbformat": 4,
  "nbformat_minor": 0,
  "metadata": {
    "colab": {
      "provenance": [],
      "authorship_tag": "ABX9TyPTzi95KdX9NrLbYdXR2fsf",
      "include_colab_link": true
    },
    "kernelspec": {
      "name": "python3",
      "display_name": "Python 3"
    },
    "language_info": {
      "name": "python"
    }
  },
  "cells": [
    {
      "cell_type": "markdown",
      "metadata": {
        "id": "view-in-github",
        "colab_type": "text"
      },
      "source": [
        "<a href=\"https://colab.research.google.com/github/sung22/NLP_2023/blob/main/2023_10_29.ipynb\" target=\"_parent\"><img src=\"https://colab.research.google.com/assets/colab-badge.svg\" alt=\"Open In Colab\"/></a>"
      ]
    },
    {
      "cell_type": "code",
      "execution_count": 1,
      "metadata": {
        "colab": {
          "base_uri": "https://localhost:8080/"
        },
        "id": "UbH2OUEL91LC",
        "outputId": "de9ee020-e50b-4649-ce5c-b121b0264cf5"
      },
      "outputs": [
        {
          "output_type": "stream",
          "name": "stdout",
          "text": [
            "Match: Python\n",
            "Match: is\n",
            "Match: awesome\n"
          ]
        }
      ],
      "source": [
        "import re\n",
        "\n",
        "text = \"Python is awesome!\"\n",
        "pattern = r\"\\w+\"\n",
        "\n",
        "matches = re.findall(pattern, text)\n",
        "\n",
        "for match in matches:\n",
        "    print(\"Match:\", match)"
      ]
    }
  ]
}