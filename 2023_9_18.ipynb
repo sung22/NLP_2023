{
  "nbformat": 4,
  "nbformat_minor": 0,
  "metadata": {
    "colab": {
      "provenance": [],
      "authorship_tag": "ABX9TyNAuADdzby+YSQMYZ28Wtj3",
      "include_colab_link": true
    },
    "kernelspec": {
      "name": "python3",
      "display_name": "Python 3"
    },
    "language_info": {
      "name": "python"
    }
  },
  "cells": [
    {
      "cell_type": "markdown",
      "metadata": {
        "id": "view-in-github",
        "colab_type": "text"
      },
      "source": [
        "<a href=\"https://colab.research.google.com/github/sung22/NLP_2023/blob/main/2023_9_18.ipynb\" target=\"_parent\"><img src=\"https://colab.research.google.com/assets/colab-badge.svg\" alt=\"Open In Colab\"/></a>"
      ]
    },
    {
      "cell_type": "code",
      "execution_count": 1,
      "metadata": {
        "id": "oxAx0-l5-cE8"
      },
      "outputs": [],
      "source": [
        "int_data = 3"
      ]
    },
    {
      "cell_type": "code",
      "source": [
        "float_data = 5.1"
      ],
      "metadata": {
        "id": "xGXMgnju-q9q"
      },
      "execution_count": 2,
      "outputs": []
    },
    {
      "cell_type": "code",
      "source": [
        "complex_data = 9+2j"
      ],
      "metadata": {
        "id": "wfizsSF_-vJK"
      },
      "execution_count": 3,
      "outputs": []
    },
    {
      "cell_type": "code",
      "source": [
        "str_data1 = 'candy'"
      ],
      "metadata": {
        "id": "mCdRsx3y-6iC"
      },
      "execution_count": 4,
      "outputs": []
    },
    {
      "cell_type": "code",
      "source": [
        "str_data2 = \"안녕하세요.\""
      ],
      "metadata": {
        "id": "gfUKCqhn_eI6"
      },
      "execution_count": 5,
      "outputs": []
    },
    {
      "cell_type": "code",
      "source": [
        "list_data = [1,2,3]"
      ],
      "metadata": {
        "id": "MZHcbD___i4M"
      },
      "execution_count": 6,
      "outputs": []
    },
    {
      "cell_type": "code",
      "source": [
        "tuple_data = (1,2,3)"
      ],
      "metadata": {
        "id": "jq6vYJfB_0Kb"
      },
      "execution_count": 7,
      "outputs": []
    },
    {
      "cell_type": "code",
      "source": [
        "dict_data = {0:'Fasles', 1:'True'}"
      ],
      "metadata": {
        "id": "toRPJcDU_4LS"
      },
      "execution_count": 8,
      "outputs": []
    },
    {
      "cell_type": "code",
      "source": [
        "print(int_data)"
      ],
      "metadata": {
        "colab": {
          "base_uri": "https://localhost:8080/"
        },
        "id": "0aVlX3xaADQa",
        "outputId": "d02a390f-33e8-4d8d-a36e-ca84ae8104a0"
      },
      "execution_count": 9,
      "outputs": [
        {
          "output_type": "stream",
          "name": "stdout",
          "text": [
            "3\n"
          ]
        }
      ]
    },
    {
      "cell_type": "code",
      "source": [
        "print(complex_data)"
      ],
      "metadata": {
        "colab": {
          "base_uri": "https://localhost:8080/"
        },
        "id": "h1F8fyq-AGji",
        "outputId": "40082dc6-d293-4ec8-de8d-aefdb563f9f0"
      },
      "execution_count": 10,
      "outputs": [
        {
          "output_type": "stream",
          "name": "stdout",
          "text": [
            "(9+2j)\n"
          ]
        }
      ]
    },
    {
      "cell_type": "code",
      "source": [
        "print(tuple_data)"
      ],
      "metadata": {
        "colab": {
          "base_uri": "https://localhost:8080/"
        },
        "id": "9vIfzq47AL66",
        "outputId": "7a1394e8-1bca-48ac-f7da-098b613f2d2a"
      },
      "execution_count": 11,
      "outputs": [
        {
          "output_type": "stream",
          "name": "stdout",
          "text": [
            "(1, 2, 3)\n"
          ]
        }
      ]
    },
    {
      "cell_type": "code",
      "source": [
        "print(str_data2)"
      ],
      "metadata": {
        "colab": {
          "base_uri": "https://localhost:8080/"
        },
        "id": "RXIT6SzgAPjZ",
        "outputId": "d72daef2-eb13-498e-e961-f7332d9a8f68"
      },
      "execution_count": 13,
      "outputs": [
        {
          "output_type": "stream",
          "name": "stdout",
          "text": [
            "안녕하세요.\n"
          ]
        }
      ]
    }
  ]
}