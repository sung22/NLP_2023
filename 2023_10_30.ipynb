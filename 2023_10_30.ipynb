{
  "nbformat": 4,
  "nbformat_minor": 0,
  "metadata": {
    "colab": {
      "provenance": [],
      "authorship_tag": "ABX9TyMdDZfNKEq+3dFIRhqESNjv",
      "include_colab_link": true
    },
    "kernelspec": {
      "name": "python3",
      "display_name": "Python 3"
    },
    "language_info": {
      "name": "python"
    }
  },
  "cells": [
    {
      "cell_type": "markdown",
      "metadata": {
        "id": "view-in-github",
        "colab_type": "text"
      },
      "source": [
        "<a href=\"https://colab.research.google.com/github/sung22/NLP_2023/blob/main/2023_10_30.ipynb\" target=\"_parent\"><img src=\"https://colab.research.google.com/assets/colab-badge.svg\" alt=\"Open In Colab\"/></a>"
      ]
    },
    {
      "cell_type": "code",
      "execution_count": 1,
      "metadata": {
        "colab": {
          "base_uri": "https://localhost:8080/"
        },
        "id": "LcHsPNox9awf",
        "outputId": "fc04f240-db45-4dd9-8eee-c4c2a238af82"
      },
      "outputs": [
        {
          "output_type": "stream",
          "name": "stdout",
          "text": [
            "Match: 3 Main\n",
            "Match: 5 Avenue\n"
          ]
        }
      ],
      "source": [
        "import re\n",
        "\n",
        "text = \"123 Main Street and 5 Avenue \"\n",
        "pattern = r\"\\d\\s\\w+\"\n",
        "\n",
        "matches = re.findall(pattern, text)\n",
        "\n",
        "for i in matches:\n",
        "    print(\"Match:\", i)"
      ]
    },
    {
      "cell_type": "code",
      "source": [
        "import re\n",
        "\n",
        "text = \"123 _Main_ Street_ and 5th Avenue \"\n",
        "pattern = r\"\\d\\s\\w+\"  # 숫자, 공백, 단어를 매치 (하나의 숫자(\\d), 공백 문자(\\s) 하나 이상의 단어 문자(\\w+)) <+ sign 앞에 alphanumeric characters 1회 이상 반복>\n",
        "\n",
        "matches = re.findall(pattern, text)\n",
        "\n",
        "for i in matches:\n",
        "  print(\"Match:\", i)"
      ],
      "metadata": {
        "colab": {
          "base_uri": "https://localhost:8080/"
        },
        "id": "F5uSXbdY9rbj",
        "outputId": "32276458-58ba-405b-9db8-3cb5a87755f2"
      },
      "execution_count": 2,
      "outputs": [
        {
          "output_type": "stream",
          "name": "stdout",
          "text": [
            "Match: 3 _Main_\n"
          ]
        }
      ]
    }
  ]
}