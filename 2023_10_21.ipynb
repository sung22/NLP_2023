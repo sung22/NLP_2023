{
  "nbformat": 4,
  "nbformat_minor": 0,
  "metadata": {
    "colab": {
      "provenance": [],
      "authorship_tag": "ABX9TyNjNugxoWIX1IiBDMh/7rEh",
      "include_colab_link": true
    },
    "kernelspec": {
      "name": "python3",
      "display_name": "Python 3"
    },
    "language_info": {
      "name": "python"
    }
  },
  "cells": [
    {
      "cell_type": "markdown",
      "metadata": {
        "id": "view-in-github",
        "colab_type": "text"
      },
      "source": [
        "<a href=\"https://colab.research.google.com/github/sung22/NLP_2023/blob/main/2023_10_21.ipynb\" target=\"_parent\"><img src=\"https://colab.research.google.com/assets/colab-badge.svg\" alt=\"Open In Colab\"/></a>"
      ]
    },
    {
      "cell_type": "code",
      "execution_count": 2,
      "metadata": {
        "id": "MyImecrc7WSf"
      },
      "outputs": [],
      "source": [
        "a = 0"
      ]
    },
    {
      "cell_type": "code",
      "source": [
        "#while문은 특정 조건을 만족하는 경우 지속적으로 반복을 수행하는 반복문이다. while 다음에 놓인 조건이 거짓일 때까지 계속 실행한다.\n",
        "while a <10:\n",
        "  a = a + 1\n",
        "  if a <3:\n",
        "    continue\n",
        "  print(a)\n",
        "  if a > 7:\n",
        "    break"
      ],
      "metadata": {
        "colab": {
          "base_uri": "https://localhost:8080/"
        },
        "id": "BUfL6Ywt7cTr",
        "outputId": "1dd7dd67-84d1-42ed-af20-f4eee6f3d123"
      },
      "execution_count": 3,
      "outputs": [
        {
          "output_type": "stream",
          "name": "stdout",
          "text": [
            "3\n",
            "4\n",
            "5\n",
            "6\n",
            "7\n",
            "8\n"
          ]
        }
      ]
    },
    {
      "cell_type": "code",
      "source": [
        "b = 1"
      ],
      "metadata": {
        "id": "CI7l5xtM745T"
      },
      "execution_count": 4,
      "outputs": []
    },
    {
      "cell_type": "code",
      "source": [
        "total = 0\n",
        "while 1:\n",
        "  total = total + b\n",
        "  if total > 100000:\n",
        "    print(b)\n",
        "    print(total)\n",
        "    break\n",
        "b = b + 1"
      ],
      "metadata": {
        "colab": {
          "base_uri": "https://localhost:8080/"
        },
        "id": "MEhhYBy276ni",
        "outputId": "81204ed1-99c0-4d54-9f1f-9dcbe751a2c5"
      },
      "execution_count": 5,
      "outputs": [
        {
          "output_type": "stream",
          "name": "stdout",
          "text": [
            "1\n",
            "100001\n"
          ]
        }
      ]
    }
  ]
}