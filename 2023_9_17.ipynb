{
  "nbformat": 4,
  "nbformat_minor": 0,
  "metadata": {
    "colab": {
      "provenance": [],
      "authorship_tag": "ABX9TyNm21HLP5fGaupFh0rXJm72",
      "include_colab_link": true
    },
    "kernelspec": {
      "name": "python3",
      "display_name": "Python 3"
    },
    "language_info": {
      "name": "python"
    }
  },
  "cells": [
    {
      "cell_type": "markdown",
      "metadata": {
        "id": "view-in-github",
        "colab_type": "text"
      },
      "source": [
        "<a href=\"https://colab.research.google.com/github/sung22/NLP_2023/blob/main/2023_9_17.ipynb\" target=\"_parent\"><img src=\"https://colab.research.google.com/assets/colab-badge.svg\" alt=\"Open In Colab\"/></a>"
      ]
    },
    {
      "cell_type": "code",
      "execution_count": 1,
      "metadata": {
        "id": "1NP4kDhscC9i"
      },
      "outputs": [],
      "source": [
        "# 만든 날짜: 2023. 9. 17"
      ]
    },
    {
      "cell_type": "code",
      "source": [
        "c = 4    # c에 4를 대입함"
      ],
      "metadata": {
        "id": "eJWSeVubfbTe"
      },
      "execution_count": 2,
      "outputs": []
    },
    {
      "cell_type": "code",
      "source": [
        "w = 9    # w에 9를 대입함"
      ],
      "metadata": {
        "id": "r6DIMqvDfklN"
      },
      "execution_count": 3,
      "outputs": []
    },
    {
      "cell_type": "code",
      "source": [
        "print(c+w)"
      ],
      "metadata": {
        "colab": {
          "base_uri": "https://localhost:8080/"
        },
        "id": "VZd45sPHfqEV",
        "outputId": "0bd54fe6-f340-4c11-f7e8-e7499bd4b4f6"
      },
      "execution_count": 4,
      "outputs": [
        {
          "output_type": "stream",
          "name": "stdout",
          "text": [
            "13\n"
          ]
        }
      ]
    },
    {
      "cell_type": "code",
      "source": [
        "\"\"\"a=2\n",
        "b=3\n",
        "print(a+b)\"\"\"\n",
        "f = 6\n",
        "g = 11\n",
        "print(f+g)"
      ],
      "metadata": {
        "colab": {
          "base_uri": "https://localhost:8080/"
        },
        "id": "oZ_rUmVcf1sG",
        "outputId": "e23fd907-9538-4d28-bdcc-efc87359500e"
      },
      "execution_count": 7,
      "outputs": [
        {
          "output_type": "stream",
          "name": "stdout",
          "text": [
            "17\n"
          ]
        }
      ]
    }
  ]
}