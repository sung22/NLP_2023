{
  "nbformat": 4,
  "nbformat_minor": 0,
  "metadata": {
    "colab": {
      "provenance": [],
      "authorship_tag": "ABX9TyOL1+Or14+g0QojfbYHss8X",
      "include_colab_link": true
    },
    "kernelspec": {
      "name": "python3",
      "display_name": "Python 3"
    },
    "language_info": {
      "name": "python"
    }
  },
  "cells": [
    {
      "cell_type": "markdown",
      "metadata": {
        "id": "view-in-github",
        "colab_type": "text"
      },
      "source": [
        "<a href=\"https://colab.research.google.com/github/sung22/NLP_2023/blob/main/2023_9_25.ipynb\" target=\"_parent\"><img src=\"https://colab.research.google.com/assets/colab-badge.svg\" alt=\"Open In Colab\"/></a>"
      ]
    },
    {
      "cell_type": "code",
      "execution_count": 14,
      "metadata": {
        "id": "H7cRB5befGfU"
      },
      "outputs": [],
      "source": [
        "listdata=['a','s','d']"
      ]
    },
    {
      "cell_type": "code",
      "source": [
        "if 'a' in listdata :\n",
        "  print('a가 listdata에 있습니다.')\n",
        "  print(listdata)\n",
        "else:\n",
        "  print('a가 listdata에 존재하지 않습니다.')"
      ],
      "metadata": {
        "colab": {
          "base_uri": "https://localhost:8080/"
        },
        "id": "u29Lrzulfd0D",
        "outputId": "587e41d0-c024-4757-a1b0-799dd5ebcf57"
      },
      "execution_count": 15,
      "outputs": [
        {
          "output_type": "stream",
          "name": "stdout",
          "text": [
            "a가 listdata에 있습니다.\n",
            "['a', 's', 'd']\n"
          ]
        }
      ]
    },
    {
      "cell_type": "code",
      "source": [
        "q = 88"
      ],
      "metadata": {
        "id": "o78Bf9sTg0TA"
      },
      "execution_count": 16,
      "outputs": []
    },
    {
      "cell_type": "code",
      "source": [
        "w = 123"
      ],
      "metadata": {
        "id": "_tlIJGxtg4Eb"
      },
      "execution_count": 18,
      "outputs": []
    },
    {
      "cell_type": "code",
      "source": [
        "if w>=q:\n",
        "  print('w가 q보다 크거나 같습니다.')\n",
        "else:\n",
        "  print('w가 q보다 작습니다.')"
      ],
      "metadata": {
        "colab": {
          "base_uri": "https://localhost:8080/"
        },
        "id": "dUfHrsiBg6x3",
        "outputId": "fe9a8064-867c-4c47-e9a1-30d9fa0d6c79"
      },
      "execution_count": 20,
      "outputs": [
        {
          "output_type": "stream",
          "name": "stdout",
          "text": [
            "w가 q보다 크거나 같습니다.\n"
          ]
        }
      ]
    },
    {
      "cell_type": "code",
      "source": [
        "if q>w:\n",
        "  print('q가 w보다 큽니다.')\n",
        "elif q<w:\n",
        "  print('q가 w보다 작습니다.')\n",
        "else:\n",
        "  print('q와 w가 같습니다.')"
      ],
      "metadata": {
        "colab": {
          "base_uri": "https://localhost:8080/"
        },
        "id": "CRRsAi_ahcrL",
        "outputId": "afa985e1-94d6-499b-ef55-f55f42619c63"
      },
      "execution_count": 21,
      "outputs": [
        {
          "output_type": "stream",
          "name": "stdout",
          "text": [
            "q가 w보다 작습니다.\n"
          ]
        }
      ]
    }
  ]
}