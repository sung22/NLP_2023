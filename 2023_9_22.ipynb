{
  "nbformat": 4,
  "nbformat_minor": 0,
  "metadata": {
    "colab": {
      "provenance": [],
      "authorship_tag": "ABX9TyPNHsKbK3+HxnixiqfOPZBk",
      "include_colab_link": true
    },
    "kernelspec": {
      "name": "python3",
      "display_name": "Python 3"
    },
    "language_info": {
      "name": "python"
    }
  },
  "cells": [
    {
      "cell_type": "markdown",
      "metadata": {
        "id": "view-in-github",
        "colab_type": "text"
      },
      "source": [
        "<a href=\"https://colab.research.google.com/github/sung22/NLP_2023/blob/main/2023_9_22.ipynb\" target=\"_parent\"><img src=\"https://colab.research.google.com/assets/colab-badge.svg\" alt=\"Open In Colab\"/></a>"
      ]
    },
    {
      "cell_type": "code",
      "execution_count": 1,
      "metadata": {
        "id": "JYpn-lcXVi3Z"
      },
      "outputs": [],
      "source": [
        "a = 100"
      ]
    },
    {
      "cell_type": "code",
      "source": [
        "b = \"I'm sung-a.\""
      ],
      "metadata": {
        "id": "QLxtzRNyVsEr"
      },
      "execution_count": 2,
      "outputs": []
    },
    {
      "cell_type": "code",
      "source": [
        "list_data = ['a','b','c']"
      ],
      "metadata": {
        "id": "hx8gQrMxVx-T"
      },
      "execution_count": 3,
      "outputs": []
    },
    {
      "cell_type": "code",
      "source": [
        "dict_data = {'Mars':'화성', 'Mercuty':'수성'}"
      ],
      "metadata": {
        "id": "uncBAzQ2V4ZT"
      },
      "execution_count": 4,
      "outputs": []
    },
    {
      "cell_type": "code",
      "source": [
        "print(a)\n",
        "print(b)\n",
        "print(list_data)\n",
        "print(list_data[1])\n",
        "print(dict_data)\n",
        "print(dict_data['Mars'])"
      ],
      "metadata": {
        "colab": {
          "base_uri": "https://localhost:8080/"
        },
        "id": "1XyI23stWJaK",
        "outputId": "e6125bd2-ab90-4117-c1fc-46dd65f5beb7"
      },
      "execution_count": 5,
      "outputs": [
        {
          "output_type": "stream",
          "name": "stdout",
          "text": [
            "100\n",
            "I'm sung-a.\n",
            "['a', 'b', 'c']\n",
            "b\n",
            "{'Mars': '화성', 'Mercuty': '수성'}\n",
            "화성\n"
          ]
        }
      ]
    }
  ]
}